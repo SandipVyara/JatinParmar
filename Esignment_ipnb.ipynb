{
  "nbformat": 4,
  "nbformat_minor": 0,
  "metadata": {
    "colab": {
      "name": "Esignment .ipnb",
      "provenance": [],
      "collapsed_sections": [],
      "authorship_tag": "ABX9TyPJXYN50JyJ9JFboRmuOK2w",
      "include_colab_link": true
    },
    "kernelspec": {
      "name": "python3",
      "display_name": "Python 3"
    }
  },
  "cells": [
    {
      "cell_type": "markdown",
      "metadata": {
        "id": "view-in-github",
        "colab_type": "text"
      },
      "source": [
        "<a href=\"https://colab.research.google.com/github/JHP4911/ASl-Recognition-master/blob/master/Esignment_ipnb.ipynb\" target=\"_parent\"><img src=\"https://colab.research.google.com/assets/colab-badge.svg\" alt=\"Open In Colab\"/></a>"
      ]
    },
    {
      "cell_type": "code",
      "metadata": {
        "id": "4zIHr6xvPE_P",
        "outputId": "e6bc9c86-67c7-4bed-b2c1-2aa7d0cc309c",
        "colab": {
          "base_uri": "https://localhost:8080/",
          "height": 34
        }
      },
      "source": [
        "# The Largest Number\n",
        "listA = [1,2,3,4,5,6,7,8,9,10]\n",
        "listB = [11,12,13,14,15,16,17,18,19,20]\n",
        "print('The largest number from listA is:',max(listA))\n",
        "\n"
      ],
      "execution_count": 1,
      "outputs": [
        {
          "output_type": "stream",
          "text": [
            "The largest number from listA is: 10\n"
          ],
          "name": "stdout"
        }
      ]
    },
    {
      "cell_type": "code",
      "metadata": {
        "id": "_5tyavj09cAS"
      },
      "source": [
        "# The second Largest Number"
      ],
      "execution_count": 2,
      "outputs": []
    },
    {
      "cell_type": "code",
      "metadata": {
        "id": "aDdTy1qz9PNy",
        "outputId": "f0a9b292-3eee-4063-892f-ecdb856b094f",
        "colab": {
          "base_uri": "https://localhost:8080/",
          "height": 34
        }
      },
      "source": [
        "print(\"Second largest Number is:\", listA[-2])\n"
      ],
      "execution_count": 3,
      "outputs": [
        {
          "output_type": "stream",
          "text": [
            "Second largest Number is: 9\n"
          ],
          "name": "stdout"
        }
      ]
    },
    {
      "cell_type": "code",
      "metadata": {
        "id": "asvUuFOU9XrL",
        "outputId": "56556286-94cd-4b27-b691-660a633ec96a",
        "colab": {
          "base_uri": "https://localhost:8080/",
          "height": 34
        }
      },
      "source": [
        "# The Merge Two  Number list  \n",
        "listA = [1,2,3,4,5,6,7,8,9,10]\n",
        "listB = [11,12,13,14,15,16,17,18,19,20]\n",
        "list3 = listA + listB\n",
        "print(list3)"
      ],
      "execution_count": 14,
      "outputs": [
        {
          "output_type": "stream",
          "text": [
            "[1, 2, 3, 4, 5, 6, 7, 8, 9, 10, 11, 12, 13, 14, 15, 16, 17, 18, 19, 20]\n"
          ],
          "name": "stdout"
        }
      ]
    },
    {
      "cell_type": "code",
      "metadata": {
        "id": "8W4vnulEBzy7",
        "outputId": "ac0f4a58-e684-48b4-c6f2-7e7db6c53351",
        "colab": {
          "base_uri": "https://localhost:8080/",
          "height": 34
        }
      },
      "source": [
        "#@ Sort Number List\n",
        "list3.sort(reverse=True)\n",
        "print(list3)"
      ],
      "execution_count": 11,
      "outputs": [
        {
          "output_type": "stream",
          "text": [
            "[20, 19, 18, 17, 16, 15, 14, 13, 12, 11, 10, 9, 8, 7, 6, 5, 4, 3, 2, 1]\n"
          ],
          "name": "stdout"
        }
      ]
    },
    {
      "cell_type": "code",
      "metadata": {
        "id": "HwwA15zRK_WP",
        "outputId": "d19f77b9-d797-4506-95a7-66ed78cac750",
        "colab": {
          "base_uri": "https://localhost:8080/",
          "height": 34
        }
      },
      "source": [
        "# To Swap the first & last value of a first_list    \n",
        "def swapPositions(list, pos1, pos6): \n",
        "    list[pos1],list[pos6] = list[pos6],list[pos1] \n",
        "    return list\n",
        "first_list = [23, 1, 9, 11, 26, 9]\n",
        "pos1, pos2  = 1, 6\n",
        "print(swapPositions(first_list, pos1-1, pos2-1))\n"
      ],
      "execution_count": 16,
      "outputs": [
        {
          "output_type": "stream",
          "text": [
            "[9, 1, 9, 11, 26, 23]\n"
          ],
          "name": "stdout"
        }
      ]
    }
  ]
}