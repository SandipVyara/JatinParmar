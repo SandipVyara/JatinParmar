{
 "cells": [
  {
   "cell_type": "markdown",
   "metadata": {},
   "source": [
    "<font color=blue><h1 align=center>Python Function Arguments</font></h1>"
   ]
  },
  {
   "cell_type": "markdown",
   "metadata": {},
   "source": [
    " ---"
   ]
  },
  {
   "cell_type": "markdown",
   "metadata": {},
   "source": [
    "In Python, you can define a function that takes variable number of arguments. In this notebook, you will learn to define such functions using default, keyword and arbitrary arguments."
   ]
  },
  {
   "cell_type": "markdown",
   "metadata": {},
   "source": [
    "## Arguments"
   ]
  },
  {
   "cell_type": "markdown",
   "metadata": {},
   "source": [
    "In the user-defined function topic, we learned about defining a function and calling it. Otherwise, the function call will result in an error. Here is an example."
   ]
  },
  {
   "cell_type": "code",
   "execution_count": null,
   "metadata": {},
   "outputs": [],
   "source": [
    "def greet(name, msg):\n",
    "    \"\"\"This function greets to\n",
    "    the person with the provided message\"\"\"\n",
    "    print(\"Hello\", name + ', ' + msg)"
   ]
  },
  {
   "cell_type": "code",
   "execution_count": null,
   "metadata": {},
   "outputs": [],
   "source": [
    "greet(\"Preeti\", \"Good morning!\")"
   ]
  },
  {
   "cell_type": "code",
   "execution_count": null,
   "metadata": {},
   "outputs": [],
   "source": [
    "greet()"
   ]
  },
  {
   "cell_type": "code",
   "execution_count": null,
   "metadata": {},
   "outputs": [],
   "source": [
    "greet('Sachin')"
   ]
  },
  {
   "cell_type": "code",
   "execution_count": null,
   "metadata": {},
   "outputs": [],
   "source": [
    "greet('Sachin', \"Good Evening!\")"
   ]
  },
  {
   "cell_type": "code",
   "execution_count": null,
   "metadata": {},
   "outputs": [],
   "source": [
    "greet(\"Good Morning\", \"Eddy Grant\")"
   ]
  },
  {
   "cell_type": "markdown",
   "metadata": {},
   "source": [
    "Here, the function greet() has two parameters.\n",
    "\n",
    "Since we have called this function with two arguments, it runs smoothly and we do not get any error.\n",
    "\n",
    "If we call it with a different number of arguments, the interpreter will show an error message. Below is a call to this function with one and no arguments along with their respective error messages."
   ]
  },
  {
   "cell_type": "code",
   "execution_count": null,
   "metadata": {},
   "outputs": [],
   "source": [
    "greet('Sachin')"
   ]
  },
  {
   "cell_type": "code",
   "execution_count": null,
   "metadata": {},
   "outputs": [],
   "source": [
    "greet()"
   ]
  },
  {
   "cell_type": "code",
   "execution_count": null,
   "metadata": {},
   "outputs": [],
   "source": [
    "def add(a=0, b=0):\n",
    "    print(a +b)"
   ]
  },
  {
   "cell_type": "code",
   "execution_count": null,
   "metadata": {},
   "outputs": [],
   "source": [
    "def add(a=0, b):\n",
    "    print(a +b)"
   ]
  },
  {
   "cell_type": "code",
   "execution_count": null,
   "metadata": {},
   "outputs": [],
   "source": [
    "add(100, 20)"
   ]
  },
  {
   "cell_type": "code",
   "execution_count": null,
   "metadata": {},
   "outputs": [],
   "source": [
    "add(50)"
   ]
  },
  {
   "cell_type": "code",
   "execution_count": null,
   "metadata": {},
   "outputs": [],
   "source": [
    "add()"
   ]
  },
  {
   "cell_type": "code",
   "execution_count": null,
   "metadata": {},
   "outputs": [],
   "source": [
    "add(10, 20)"
   ]
  },
  {
   "cell_type": "code",
   "execution_count": null,
   "metadata": {},
   "outputs": [],
   "source": [
    "add(10, 20)"
   ]
  },
  {
   "cell_type": "code",
   "execution_count": null,
   "metadata": {},
   "outputs": [],
   "source": [
    "add(100)"
   ]
  },
  {
   "cell_type": "markdown",
   "metadata": {},
   "source": [
    "## Variable Function Arguments"
   ]
  },
  {
   "cell_type": "markdown",
   "metadata": {},
   "source": [
    "Up until now, functions had a fixed number of arguments. In Python, there are other ways to define a function that can take variable number of arguments.\n",
    "\n",
    "Three different forms of this type are described below."
   ]
  },
  {
   "cell_type": "markdown",
   "metadata": {},
   "source": [
    "### Python Default Arguments"
   ]
  },
  {
   "cell_type": "markdown",
   "metadata": {},
   "source": [
    "Function arguments can have default values in Python.\n",
    "\n",
    "We can provide a default value to an argument by using the assignment operator (=). Here is an example."
   ]
  },
  {
   "cell_type": "code",
   "execution_count": null,
   "metadata": {},
   "outputs": [],
   "source": [
    "def greet(name, msg=\"Good morning!\"):\n",
    "    \"\"\"\n",
    "    This function greets to\n",
    "    the person with the\n",
    "    provided message.\n",
    "\n",
    "    If the message is not provided,\n",
    "    it defaults to \"Good\n",
    "    morning!\"\n",
    "    \"\"\"\n",
    "\n",
    "    print(\"Hello\", name + ', ' + msg)\n",
    "\n",
    "\n",
    "greet(\"Eddy\")\n",
    "greet(\"Manish\", \"How do you do?\")"
   ]
  },
  {
   "cell_type": "code",
   "execution_count": null,
   "metadata": {},
   "outputs": [],
   "source": [
    "def greet(name, msg=\"Good morning!\"):\n",
    "    \"\"\"\n",
    "    This function greets to\n",
    "    the person with the\n",
    "    provided message.\n",
    "\n",
    "    If the message is not provided,\n",
    "    it defaults to \"Good\n",
    "    morning!\"\n",
    "    \"\"\"\n",
    "\n",
    "    print(\"Hello\", name + ', ' + msg)\n",
    "\n",
    "\n",
    "greet(\"Eddy\")\n",
    "greet(\"Manish\", \"How do you do?\")"
   ]
  },
  {
   "cell_type": "markdown",
   "metadata": {},
   "source": [
    "In this function, the parameter name does not have a default value and is required (mandatory) during a call.\n",
    "\n",
    "On the other hand, the parameter msg has a default value of \"Good morning!\". So, it is optional during a call. If a value is provided, it will overwrite the default value.\n",
    "\n",
    "Any number of arguments in a function can have a default value. But once we have a default argument, all the arguments to its right must also have default values.\n",
    "\n",
    "This means to say, non-default arguments cannot follow default arguments. For example, if we had defined the function header above as:"
   ]
  },
  {
   "cell_type": "code",
   "execution_count": null,
   "metadata": {},
   "outputs": [],
   "source": [
    "def greet(msg = \"Good morning!\", name):\n",
    "    pass"
   ]
  },
  {
   "cell_type": "markdown",
   "metadata": {},
   "source": [
    "### Python Keyword Arguments"
   ]
  },
  {
   "cell_type": "markdown",
   "metadata": {},
   "source": [
    "When we call a function with some values, these values get assigned to the arguments according to their position.\n",
    "\n",
    "For example, in the above function greet(), when we called it as greet(\"Sachin\", \"How do you do?\"), the value \"Sachin\" gets assigned to the argument name and similarly \"How do you do?\" to msg.\n",
    "\n",
    "Python allows functions to be called using keyword arguments. When we call functions in this way, the order (position) of the arguments can be changed. Following calls to the above function are all valid and produce the same result."
   ]
  },
  {
   "cell_type": "code",
   "execution_count": null,
   "metadata": {},
   "outputs": [],
   "source": [
    "def greet(name, msg=\"Good morning!\"):\n",
    "    print(\"Hello\", name + ', ' + msg)"
   ]
  },
  {
   "cell_type": "code",
   "execution_count": null,
   "metadata": {},
   "outputs": [],
   "source": [
    "# 2 keyword arguments\n",
    "greet(name = \"Sachin\",msg = \"How do you do?\")"
   ]
  },
  {
   "cell_type": "code",
   "execution_count": null,
   "metadata": {},
   "outputs": [],
   "source": [
    "# 2 keyword arguments (out of order)\n",
    "greet(msg = \"How do you do?\",name = \"Sachin\") "
   ]
  },
  {
   "cell_type": "code",
   "execution_count": null,
   "metadata": {},
   "outputs": [],
   "source": [
    "# 1 positional, 1 keyword argument\n",
    "greet(\"Sachin\", msg = \"How do you do?\")           "
   ]
  },
  {
   "cell_type": "code",
   "execution_count": null,
   "metadata": {},
   "outputs": [],
   "source": [
    "help(print)"
   ]
  },
  {
   "cell_type": "code",
   "execution_count": null,
   "metadata": {},
   "outputs": [],
   "source": [
    "print('hi all', end='\\t\\t\\t')\n",
    "print(\"hi all\")"
   ]
  },
  {
   "cell_type": "markdown",
   "metadata": {},
   "source": [
    "As we can see, we can mix positional arguments with keyword arguments during a function call. But we must keep in mind that keyword arguments must follow positional arguments.\n",
    "\n",
    "Having a positional argument after keyword arguments will result in errors. For example, the function call as follows:"
   ]
  },
  {
   "cell_type": "code",
   "execution_count": null,
   "metadata": {},
   "outputs": [],
   "source": [
    "greet(name=\"Sachin\",\"How do you do?\")"
   ]
  },
  {
   "cell_type": "code",
   "execution_count": null,
   "metadata": {},
   "outputs": [],
   "source": [
    "def add(a, b, c):\n",
    "    sum = a + b + c\n",
    "    print(sum)"
   ]
  },
  {
   "cell_type": "code",
   "execution_count": null,
   "metadata": {},
   "outputs": [],
   "source": [
    "def add(*x):\n",
    "#     print(type(x))\n",
    "    sum = 0\n",
    "    for i in x:\n",
    "        sum += i\n",
    "    print(sum)"
   ]
  },
  {
   "cell_type": "markdown",
   "metadata": {},
   "source": [
    "    def hello():\n",
    "        def hello():\n",
    "            nonlocal"
   ]
  },
  {
   "cell_type": "code",
   "execution_count": null,
   "metadata": {},
   "outputs": [],
   "source": [
    "add(10, 10, 20, 30, 10,20, 30)"
   ]
  },
  {
   "cell_type": "code",
   "execution_count": null,
   "metadata": {},
   "outputs": [],
   "source": [
    "x = 10 # global var\n",
    "\n",
    "def hello():\n",
    "    global x \n",
    "    print(x)\n",
    "    x = 20\n",
    "    print(x)\n",
    "\n",
    "hello()"
   ]
  },
  {
   "cell_type": "markdown",
   "metadata": {},
   "source": [
    "### Python Arbitrary Arguments"
   ]
  },
  {
   "cell_type": "markdown",
   "metadata": {},
   "source": [
    "    Sometimes, we do not know in advance the number of arguments that will be passed into a function. Python allows us to handle this kind of situation through function calls with an arbitrary number of arguments.\n",
    "\n",
    "    In the function definition, we use an asterisk (*) before the parameter name to denote this kind of argument. Here is an example."
   ]
  },
  {
   "cell_type": "code",
   "execution_count": null,
   "metadata": {},
   "outputs": [],
   "source": [
    "def greet(*names):\n",
    "    \"\"\"This function greets all\n",
    "    the person in the names tuple.\"\"\"\n",
    "\n",
    "    # names is a tuple with arguments\n",
    "    for name in names:\n",
    "        print(\"Hello\", name)\n",
    "\n",
    "\n",
    "greet('Sachin', 'Eddy', 'Vishal', 'Manish')"
   ]
  },
  {
   "cell_type": "code",
   "execution_count": null,
   "metadata": {},
   "outputs": [],
   "source": [
    "def hello(**xx):\n",
    "    print(xx)"
   ]
  },
  {
   "cell_type": "code",
   "execution_count": null,
   "metadata": {},
   "outputs": [],
   "source": [
    "hello(name=\"Sachin\", age=22)"
   ]
  },
  {
   "cell_type": "markdown",
   "metadata": {},
   "source": [
    "Here, we have called the function with multiple arguments. These arguments get wrapped up into a tuple before being passed into the function. Inside the function, we use a for loop to retrieve all the arguments back."
   ]
  },
  {
   "cell_type": "markdown",
   "metadata": {},
   "source": [
    "<br>"
   ]
  },
  {
   "cell_type": "markdown",
   "metadata": {},
   "source": [
    "# Python Recursion"
   ]
  },
  {
   "cell_type": "markdown",
   "metadata": {},
   "source": [
    "## What is recursion?"
   ]
  },
  {
   "cell_type": "markdown",
   "metadata": {},
   "source": [
    "    Recursion is the process of defining something in terms of itself.\n",
    "\n",
    "    A physical world example would be to place two parallel mirrors facing each other. Any object in between them would be reflected recursively."
   ]
  },
  {
   "cell_type": "code",
   "execution_count": null,
   "metadata": {},
   "outputs": [],
   "source": [
    "def hello():\n",
    "    print('Hi all')\n",
    "    hello()"
   ]
  },
  {
   "cell_type": "code",
   "execution_count": null,
   "metadata": {},
   "outputs": [],
   "source": [
    "hello()"
   ]
  },
  {
   "cell_type": "code",
   "execution_count": null,
   "metadata": {},
   "outputs": [],
   "source": [
    "import sys"
   ]
  },
  {
   "cell_type": "code",
   "execution_count": null,
   "metadata": {},
   "outputs": [],
   "source": [
    "sys.getrecursionlimit()"
   ]
  },
  {
   "cell_type": "markdown",
   "metadata": {},
   "source": [
    "#### Python Recursive Function"
   ]
  },
  {
   "cell_type": "markdown",
   "metadata": {},
   "source": [
    "    In Python, we know that a function can call other functions. It is even possible for the function to call itself. These types of construct are termed as recursive functions.\n",
    "\n",
    "    The following image shows the working of a recursive function called recurse."
   ]
  },
  {
   "cell_type": "markdown",
   "metadata": {},
   "source": [
    "<img src='img/recursion.png' height=400 widht=400>"
   ]
  },
  {
   "cell_type": "markdown",
   "metadata": {},
   "source": [
    "    Following is an example of a recursive function to find the factorial of an integer.\n",
    "\n",
    "    Factorial of a number is the product of all the integers from 1 to that number.\n",
    "    For example, the factorial of 6 (denoted as 6!) is 1*2*3*4*5*6 = 720."
   ]
  },
  {
   "cell_type": "markdown",
   "metadata": {},
   "source": [
    "                4 * 3!\n",
    "                3 * 2!\n",
    "                2 * 1!\n",
    "                1 * 1"
   ]
  },
  {
   "cell_type": "markdown",
   "metadata": {},
   "source": [
    "#### Example of a recursive function"
   ]
  },
  {
   "cell_type": "code",
   "execution_count": 2,
   "metadata": {},
   "outputs": [
    {
     "data": {
      "text/plain": [
       "6"
      ]
     },
     "execution_count": 2,
     "metadata": {},
     "output_type": "execute_result"
    }
   ],
   "source": [
    "def factorial(x): # x=3, x=2, x=1\n",
    "    if x == 1:    # false, flase, true\n",
    "        return 1  # 1\n",
    "    else:\n",
    "        return (x * factorial(x-1))\n",
    "            #   3 * factorial(2) # 3 * 2 = 6\n",
    "            #   2 * factorail(1) # 2 * 1\n",
    "\n",
    "\n",
    "num = 3\n",
    "\n",
    "factorial(3)"
   ]
  },
  {
   "cell_type": "code",
   "execution_count": 4,
   "metadata": {},
   "outputs": [
    {
     "data": {
      "text/plain": [
       "5040"
      ]
     },
     "execution_count": 4,
     "metadata": {},
     "output_type": "execute_result"
    }
   ],
   "source": [
    "factorial(7)"
   ]
  },
  {
   "cell_type": "markdown",
   "metadata": {},
   "source": [
    "In the above example, factorial() is a recursive function as it calls itself."
   ]
  },
  {
   "cell_type": "markdown",
   "metadata": {},
   "source": [
    " * When we call this function with a positive integer, it will recursively call itself by decreasing the number.\n",
    " * Each function multiplies the number with the factorial of the number below it until it is equal to one. This recursive call can be explained in the following steps."
   ]
  },
  {
   "cell_type": "markdown",
   "metadata": {},
   "source": [
    "    factorial(3)          # 1st call with 3\n",
    "    3 * factorial(2)      # 2nd call with 2\n",
    "    3 * 2 * factorial(1)  # 3rd call with 1\n",
    "    3 * 2 * 1             # return from 3rd call as number=1\n",
    "    3 * 2                 # return from 2nd call\n",
    "    6                     # return from 1st call"
   ]
  },
  {
   "cell_type": "markdown",
   "metadata": {},
   "source": [
    "#### Let's look at an image that shows a step-by-step process of what is going on:"
   ]
  },
  {
   "cell_type": "markdown",
   "metadata": {},
   "source": [
    "<img src='img/recur2.png' height=400 widht=400>"
   ]
  },
  {
   "cell_type": "markdown",
   "metadata": {},
   "source": [
    "Our recursion ends when the number reduces to 1. This is called the base condition.\n",
    "\n",
    "Every recursive function must have a base condition that stops the recursion or else the function calls itself infinitely.\n",
    "\n",
    "The Python interpreter limits the depths of recursion to help avoid infinite recursions, resulting in stack overflows.\n",
    "\n",
    "By default, the maximum depth of recursion is 1000. If the limit is crossed, it results in RecursionError. Let's look at one such condition."
   ]
  },
  {
   "cell_type": "markdown",
   "metadata": {},
   "source": [
    "    def recursor():\n",
    "        recursor()\n",
    "    recursor()"
   ]
  },
  {
   "cell_type": "markdown",
   "metadata": {},
   "source": [
    "    Traceback (most recent call last):\n",
    "      File \"<string>\", line 3, in <module>\n",
    "      File \"<string>\", line 2, in a\n",
    "      File \"<string>\", line 2, in a\n",
    "      File \"<string>\", line 2, in a\n",
    "      [Previous line repeated 996 more times]\n",
    "    RecursionError: maximum recursion depth exceeded"
   ]
  },
  {
   "cell_type": "markdown",
   "metadata": {},
   "source": [
    "### Advantages of Recursion"
   ]
  },
  {
   "cell_type": "markdown",
   "metadata": {},
   "source": [
    "     * Recursive functions make the code look clean and elegant.\n",
    "     * A complex task can be broken down into simpler sub-problems using recursion.\n",
    "     * Sequence generation is easier with recursion than using some nested iteration."
   ]
  },
  {
   "cell_type": "markdown",
   "metadata": {},
   "source": [
    "### Disadvantages of Recursion"
   ]
  },
  {
   "cell_type": "markdown",
   "metadata": {},
   "source": [
    "    * Sometimes the logic behind recursion is hard to follow through.\n",
    "    * Recursive calls are expensive (inefficient) as they take up a lot of memory and time.\n",
    "    * Recursive functions are hard to debug."
   ]
  }
 ],
 "metadata": {
  "kernelspec": {
   "display_name": "Python 3",
   "language": "python",
   "name": "python3"
  },
  "language_info": {
   "codemirror_mode": {
    "name": "ipython",
    "version": 3
   },
   "file_extension": ".py",
   "mimetype": "text/x-python",
   "name": "python",
   "nbconvert_exporter": "python",
   "pygments_lexer": "ipython3",
   "version": "3.8.5"
  }
 },
 "nbformat": 4,
 "nbformat_minor": 4
}
