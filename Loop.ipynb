{
 "cells": [
  {
   "cell_type": "markdown",
   "metadata": {},
   "source": [
    "#syntax of for loop\n",
    "for val in sequence:\n",
    "     Body of for"
   ]
  },
  {
   "cell_type": "code",
   "execution_count": null,
   "metadata": {},
   "outputs": [
    {
     "name": "stdout",
     "output_type": "stream",
     "text": [
      "Enter your name:Prajjwal\n",
      "Enter your name:sachin\n",
      "Enter your name:python\n"
     ]
    }
   ],
   "source": [
    "names =[]\n",
    "names.append(input(\"Enter your name:\"))\n",
    "names.append(input(\"Enter your name:\"))\n",
    "names.append(input(\"Enter your name:\"))\n",
    "names.append(input(\"Enter your name:\"))\n",
    "names.append(input(\"Enter your name:\"))\n",
    "print(names)"
   ]
  },
  {
   "cell_type": "code",
   "execution_count": null,
   "metadata": {},
   "outputs": [],
   "source": [
    "# enter number of course\n",
    "n= int(input(\"Enter number of course:\"))\n",
    "courses =[]\n",
    "\n",
    "for i in range(n):\n",
    "    temp"
   ]
  },
  {
   "cell_type": "code",
   "execution_count": null,
   "metadata": {},
   "outputs": [],
   "source": [
    "training_name=\"python Programmimg\""
   ]
  },
  {
   "cell_type": "code",
   "execution_count": null,
   "metadata": {},
   "outputs": [],
   "source": [
    "for x in training_names:\n",
    "    print(x)"
   ]
  },
  {
   "cell_type": "code",
   "execution_count": null,
   "metadata": {},
   "outputs": [],
   "source": [
    "print(training_name[0])\n",
    "print(training_name[1])\n",
    "print(training_name[2])\n",
    "print(training_name[3])\n",
    "print(training_name[4])"
   ]
  },
  {
   "cell_type": "code",
   "execution_count": null,
   "metadata": {},
   "outputs": [],
   "source": [
    "x=iter(training_name)"
   ]
  },
  {
   "cell_type": "code",
   "execution_count": null,
   "metadata": {},
   "outputs": [],
   "source": [
    "type(x)"
   ]
  },
  {
   "cell_type": "code",
   "execution_count": null,
   "metadata": {},
   "outputs": [],
   "source": [
    "x.__next__()"
   ]
  },
  {
   "cell_type": "markdown",
   "metadata": {},
   "source": [
    "##python for loop"
   ]
  },
  {
   "cell_type": "code",
   "execution_count": null,
   "metadata": {},
   "outputs": [],
   "source": [
    "# Program to find the sum of all numbers stored in a list\n",
    "\n",
    "#List of numbers\n",
    "numbers =[6,5,3,8,4,2,5,4,11]\n",
    "\n",
    "#variable to store the sum\n",
    "sum = 0\n",
    "\n",
    "#iterate over the list\n",
    "for val in numbers:\n",
    "     print('val',val)\n",
    "     sum += val \n",
    "print(\"the sum is\",sum)"
   ]
  },
  {
   "cell_type": "code",
   "execution_count": null,
   "metadata": {},
   "outputs": [],
   "source": [
    "data =[1,2,1,1,2,3,4,5,6,10]\n",
    "#len(data)\n",
    "\n",
    "for var in data:\n",
    "    print(\"hi from sachin\",var)"
   ]
  },
  {
   "cell_type": "code",
   "execution_count": null,
   "metadata": {},
   "outputs": [],
   "source": [
    "len(numbers)\n"
   ]
  },
  {
   "cell_type": "code",
   "execution_count": null,
   "metadata": {},
   "outputs": [],
   "source": [
    "x =list(range(10))\n",
    "print(len(x))\n",
    "print(x)\n"
   ]
  },
  {
   "cell_type": "code",
   "execution_count": null,
   "metadata": {},
   "outputs": [],
   "source": [
    "print(list(range(10)))\n",
    "\n",
    "print(list(range(2,8)))\n",
    "\n",
    "print(list(range(2,20,3)))\n"
   ]
  },
  {
   "cell_type": "code",
   "execution_count": null,
   "metadata": {},
   "outputs": [],
   "source": [
    "print(list(range(2,20,3)))"
   ]
  },
  {
   "cell_type": "code",
   "execution_count": null,
   "metadata": {},
   "outputs": [],
   "source": [
    "#Program to iterate through a list usuing indexing\n",
    "\n",
    "names = ['Eddy','sachin','Grant']\n",
    "#iterate over the list using index\n",
    "for i in range(len(names))\n"
   ]
  },
  {
   "cell_type": "markdown",
   "metadata": {},
   "source": [
    "#while test_expression:\n",
    "  Body of while"
   ]
  },
  {
   "cell_type": "code",
   "execution_count": null,
   "metadata": {},
   "outputs": [],
   "source": [
    "a = 10\n",
    "\n",
    "while a < 20:\n",
    "    print(a)\n",
    "    "
   ]
  },
  {
   "cell_type": "code",
   "execution_count": null,
   "metadata": {},
   "outputs": [],
   "source": [
    " a = 10\n",
    "\n",
    "while a < 20:\n",
    "    print(a)\n",
    "    a += 1"
   ]
  },
  {
   "cell_type": "code",
   "execution_count": null,
   "metadata": {},
   "outputs": [],
   "source": [
    "#program to add natural \n",
    "# numbers up to \n",
    "#sum = 1+2+3..+n\n",
    "# To take input from the user,\n",
    "n = int(input(\"Enter n:\")) #5\n",
    "\n",
    "#n =10\n",
    "sum =1\n",
    "i =1\n",
    "while i =<= n: \n",
    "    sum += i\n",
    "    i += 1\n",
    "# print the sum\n",
    "print(\"The sum is\",sum)\n"
   ]
  },
  {
   "cell_type": "code",
   "execution_count": null,
   "metadata": {},
   "outputs": [],
   "source": [
    "user_input =''\n",
    "names = []\n",
    " \n",
    "while user_input = input(\"enter names:\")\n",
    "names.append(user_input)\n",
    "\n",
    "print(names)"
   ]
  }
 ],
 "metadata": {
  "kernelspec": {
   "display_name": "Python 3",
   "language": "python",
   "name": "python3"
  },
  "language_info": {
   "codemirror_mode": {
    "name": "ipython",
    "version": 3
   },
   "file_extension": ".py",
   "mimetype": "text/x-python",
   "name": "python",
   "nbconvert_exporter": "python",
   "pygments_lexer": "ipython3",
   "version": "3.6.8"
  }
 },
 "nbformat": 4,
 "nbformat_minor": 4
}
