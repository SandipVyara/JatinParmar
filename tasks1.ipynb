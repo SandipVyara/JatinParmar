{
 "cells": [
  {
   "cell_type": "code",
   "execution_count": null,
   "metadata": {},
   "outputs": [],
   "source": [
    "1 This is python training from eddy grant. my linkdin username is eddygrant000, my nikc is eddy and this python training"
   ]
  },
  {
   "cell_type": "code",
   "execution_count": null,
   "metadata": {},
   "outputs": [],
   "source": [
    "# this = 2\n",
    "# is = 3"
   ]
  },
  {
   "cell_type": "code",
   "execution_count": 6,
   "metadata": {},
   "outputs": [],
   "source": [
    "data = \"\"\"this is python training from eddy grant.\n",
    "my linkdin username is eddygrant000,\n",
    "my nikc is eddy and this python training\"\"\""
   ]
  },
  {
   "cell_type": "code",
   "execution_count": null,
   "metadata": {},
   "outputs": [],
   "source": [
    "# dict , "
   ]
  },
  {
   "cell_type": "code",
   "execution_count": 7,
   "metadata": {},
   "outputs": [],
   "source": [
    "data = data.split()"
   ]
  },
  {
   "cell_type": "code",
   "execution_count": 4,
   "metadata": {},
   "outputs": [
    {
     "name": "stdout",
     "output_type": "stream",
     "text": [
      "['This', 'is', 'python', 'training', 'from', 'eddy', 'grant.', 'my', 'linkdin', 'username', 'is', 'eddygrant000,', 'my', 'nikc', 'is', 'eddy', 'and', 'this', 'python', 'training']\n"
     ]
    }
   ],
   "source": [
    "print(data)"
   ]
  },
  {
   "cell_type": "code",
   "execution_count": null,
   "metadata": {},
   "outputs": [],
   "source": [
    "temp = ['this', 'is'....'username',]"
   ]
  },
  {
   "cell_type": "code",
   "execution_count": 10,
   "metadata": {},
   "outputs": [
    {
     "name": "stdout",
     "output_type": "stream",
     "text": [
      "is 3\n",
      "my 2\n",
      "eddy 2\n",
      "this 2\n",
      "python 2\n",
      "training 2\n"
     ]
    }
   ],
   "source": [
    "temp = []\n",
    "dupli = []\n",
    "for word in data:\n",
    "    if word.lower() not in temp:\n",
    "        temp.append(word.lower())\n",
    "    else:\n",
    "        if word not in dupli:\n",
    "            print(word, data.count(word))\n",
    "            dupli.append(word)"
   ]
  },
  {
   "cell_type": "code",
   "execution_count": 11,
   "metadata": {},
   "outputs": [
    {
     "name": "stdout",
     "output_type": "stream",
     "text": [
      "['this', 'is', 'python', 'training', 'from', 'eddy', 'grant.', 'my', 'linkdin', 'username', 'is', 'eddygrant000,', 'my', 'nikc', 'is', 'eddy', 'and', 'this', 'python', 'training']\n"
     ]
    }
   ],
   "source": [
    "print(data)"
   ]
  },
  {
   "cell_type": "code",
   "execution_count": 21,
   "metadata": {},
   "outputs": [
    {
     "name": "stdout",
     "output_type": "stream",
     "text": [
      "this = 2\n",
      "is = 3\n",
      "python = 2\n",
      "training = 2\n",
      "eddy = 2\n",
      "my = 2\n"
     ]
    }
   ],
   "source": [
    "temp = {}\n",
    "for key in data:\n",
    "    temp[key] = 0\n",
    "for word in data:\n",
    "    temp[word] += 1\n",
    "for i, j in temp.items():\n",
    "    if j > 1:\n",
    "#         print(f'{i} = {j}') # fstring\n",
    "        print(i, \"=\",j)"
   ]
  },
  {
   "cell_type": "code",
   "execution_count": null,
   "metadata": {},
   "outputs": [],
   "source": [
    "1. create a basic database using dict.\n",
    "database = {\n",
    "        'eddygrant000':{\n",
    "            'name': 'Sachin',\n",
    "            'age': 22,\n",
    "            'email': 'eddyXXXX@gmail.com',\n",
    "            'password': 'red@123'\n",
    "            'amount': 20000,\n",
    "        },\n",
    "        'sachin000':{\n",
    "            'name': 'Tanuj',\n",
    "            'age': 25,\n",
    "            'email': 'tanuj@gmail.com'\n",
    "            'password': 'red@123'\n",
    "            'amount': 10000,\n",
    "        }\n",
    "    }"
   ]
  },
  {
   "cell_type": "code",
   "execution_count": null,
   "metadata": {},
   "outputs": [],
   "source": [
    "1. Login\n",
    "2. Signup\n",
    "3. Exit"
   ]
  },
  {
   "cell_type": "code",
   "execution_count": null,
   "metadata": {},
   "outputs": [],
   "source": []
  },
  {
   "cell_type": "code",
   "execution_count": null,
   "metadata": {},
   "outputs": [],
   "source": [
    "login, Login, 1"
   ]
  },
  {
   "cell_type": "code",
   "execution_count": null,
   "metadata": {},
   "outputs": [],
   "source": [
    "username : \n",
    "password : 123123\n",
    "\n",
    "authenticat username and password\n",
    "Do you want forgot your password: yes /no\n",
    "    \n",
    "create a process for forgot password: \n",
    "    take a email user \n",
    "    enter new password: \n",
    "    pelase try again"
   ]
  },
  {
   "cell_type": "code",
   "execution_count": null,
   "metadata": {},
   "outputs": [],
   "source": [
    "1. View balance\n",
    "2. Deposit \n",
    "3. With\n",
    "4. Logout"
   ]
  },
  {
   "cell_type": "code",
   "execution_count": null,
   "metadata": {},
   "outputs": [],
   "source": [
    "getpass"
   ]
  },
  {
   "cell_type": "code",
   "execution_count": null,
   "metadata": {},
   "outputs": [],
   "source": [
    "# matrix: array  "
   ]
  },
  {
   "cell_type": "code",
   "execution_count": 26,
   "metadata": {},
   "outputs": [],
   "source": [
    "data = [[0, 0, 0 ,0 ,0],[0, 0, 0 ,0 ,0],[0, 0, 0 ,0 ,0],[0, 0, 0 ,0 ,0],[0, 0, 0 ,0 ,0],[0, 0, 0 ,0 ,0]]"
   ]
  },
  {
   "cell_type": "code",
   "execution_count": 27,
   "metadata": {},
   "outputs": [
    {
     "data": {
      "text/plain": [
       "[[0, 0, 0, 0, 0],\n",
       " [0, 0, 0, 0, 0],\n",
       " [0, 0, 0, 0, 0],\n",
       " [0, 0, 0, 0, 0],\n",
       " [0, 0, 0, 0, 0],\n",
       " [0, 0, 0, 0, 0]]"
      ]
     },
     "execution_count": 27,
     "metadata": {},
     "output_type": "execute_result"
    }
   ],
   "source": [
    "data"
   ]
  },
  {
   "cell_type": "code",
   "execution_count": null,
   "metadata": {},
   "outputs": [],
   "source": [
    "# 5* 6: "
   ]
  },
  {
   "cell_type": "code",
   "execution_count": 37,
   "metadata": {},
   "outputs": [
    {
     "name": "stdout",
     "output_type": "stream",
     "text": [
      "Enter n: 3\n",
      "Enter m: 3\n",
      "Enter element [0][0]: 10\n",
      "Enter element [0][1]: 12\n",
      "Enter element [0][2]: 29\n",
      "Enter element [1][0]: 3\n",
      "Enter element [1][1]: 4\n",
      "Enter element [1][2]: 4\n",
      "Enter element [2][0]: 2\n",
      "Enter element [2][1]: 4\n",
      "Enter element [2][2]: 23\n"
     ]
    },
    {
     "data": {
      "text/plain": [
       "[['10', '12', '29'], ['3', '4', '4'], ['2', '4', '23']]"
      ]
     },
     "execution_count": 37,
     "metadata": {},
     "output_type": "execute_result"
    }
   ],
   "source": [
    "n = int(input(\"Enter n: \"))\n",
    "m = int(input(\"Enter m: \"))\n",
    "data = []\n",
    "for i in range(n): # 0, 1, 2\n",
    "    temp = []\n",
    "    for j in range(m): # 0, 1, 2\n",
    "        temp.append(input(f\"Enter element [{i}][{j}]: \"))\n",
    "    data.append(temp)\n",
    "data"
   ]
  },
  {
   "cell_type": "code",
   "execution_count": 31,
   "metadata": {},
   "outputs": [
    {
     "name": "stdout",
     "output_type": "stream",
     "text": [
      "[['10', '20'], ['1', '4']]\n"
     ]
    }
   ],
   "source": [
    "print(data)"
   ]
  },
  {
   "cell_type": "code",
   "execution_count": null,
   "metadata": {},
   "outputs": [],
   "source": [
    "[[1, 2, 3, 4, 5],\n",
    " [18, 19, 0, 0, 6],\n",
    " [17, 0, 0, 0, 7],\n",
    " [16, 0, 25, 0, 8],\n",
    " [15, 0, 0, 0, 9],\n",
    " [14, 13, 12, 11, 10]]"
   ]
  }
 ],
 "metadata": {
  "kernelspec": {
   "display_name": "Python 3",
   "language": "python",
   "name": "python3"
  },
  "language_info": {
   "codemirror_mode": {
    "name": "ipython",
    "version": 3
   },
   "file_extension": ".py",
   "mimetype": "text/x-python",
   "name": "python",
   "nbconvert_exporter": "python",
   "pygments_lexer": "ipython3",
   "version": "3.8.5"
  }
 },
 "nbformat": 4,
 "nbformat_minor": 4
}
