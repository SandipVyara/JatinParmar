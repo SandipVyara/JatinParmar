{
  "nbformat": 4,
  "nbformat_minor": 0,
  "metadata": {
    "colab": {
      "name": "Untitled0.ipynb",
      "provenance": [],
      "collapsed_sections": [],
      "authorship_tag": "ABX9TyPUGHO9kImuIkjbXTjfnweJ",
      "include_colab_link": true
    },
    "kernelspec": {
      "name": "python3",
      "display_name": "Python 3"
    }
  },
  "cells": [
    {
      "cell_type": "markdown",
      "metadata": {
        "id": "view-in-github",
        "colab_type": "text"
      },
      "source": [
        "<a href=\"https://colab.research.google.com/github/JHP4911/ASl-Recognition-master/blob/master/skillshanta%20day-1.ipynb\" target=\"_parent\"><img src=\"https://colab.research.google.com/assets/colab-badge.svg\" alt=\"Open In Colab\"/></a>"
      ]
    },
    {
      "cell_type": "code",
      "metadata": {
        "id": "1ejfM92CC4qG"
      },
      "source": [
        "# task 1\n",
        "# Python program to find bIg no of list\n",
        "\n",
        "List_1=[]\n",
        "num=int(input(\"enter no of element list:\"))\n",
        "\n",
        "for i in range(1, no+1):\n",
        "  ele=int(input(\"enter element:\"))\n",
        "  list1.append(ele)\n",
        "  print:(\"big element is:\",Max(list1))\n",
        "\n",
        "  # Task 2\n",
        "# Python program to find second largest number in a list\n",
        "list1=[]\n",
        "num=int(input(\"Enter number of elements:\"))\n",
        "for i in range(1,num+1):\n",
        "    ele=int(input(\"Enter element:\"))\n",
        "    list1.append(b)\n",
        "list1.sort()\n",
        "print(\"Second largest element is:\",list1[num-2])\n",
        "\n",
        "\n",
        "# Task 3\n",
        "# Python program to merge two lists and sort it\n",
        "a=[]\n",
        "c=[]\n",
        "n1=int(input(\"Enter number of elements:\"))\n",
        "for i in range(1,n1+1):\n",
        "    b=int(input(\"Enter element:\"))\n",
        "    a.append(b)\n",
        "n2=int(input(\"Enter number of elements:\"))\n",
        "for i in range(1,n2+1):\n",
        "    d=int(input(\"Enter element:\"))\n",
        "    c.append(d)\n",
        "new=a+c\n",
        "new.sort()\n",
        "print(\"Sorted list is:\",new)\n",
        "\n",
        "\n",
        "# Task 4\n",
        "# Python program to swap the first and last values of a list\n",
        "a=[]\n",
        "n= int(input(\"Enter the number of elements in list:\"))\n",
        "for x in range(0,n):\n",
        "    element=int(input(\"Enter element\" + str(x+1) + \":\"))\n",
        "    a.append(element)\n",
        "temp=a[0]\n",
        "a[0]=a[n-1]\n",
        "a[n-1]=temp\n",
        "print(\"New list is:\")\n",
        "print(a)\n",
        "\n"
      ],
      "execution_count": null,
      "outputs": []
    },
    {
      "cell_type": "markdown",
      "metadata": {
        "id": "iuaiD84PRv1q"
      },
      "source": [
        ""
      ]
    }
  ]
}