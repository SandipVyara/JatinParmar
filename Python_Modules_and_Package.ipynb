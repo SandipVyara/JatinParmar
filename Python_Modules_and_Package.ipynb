{
 "cells": [
  {
   "cell_type": "markdown",
   "metadata": {},
   "source": [
    "<font color=blue><h1 align=center>Python Modules & Package</font></h1>"
   ]
  },
  {
   "cell_type": "markdown",
   "metadata": {},
   "source": [
    "---"
   ]
  },
  {
   "cell_type": "markdown",
   "metadata": {},
   "source": [
    "## What are modules in Python?"
   ]
  },
  {
   "cell_type": "markdown",
   "metadata": {},
   "source": [
    "    Modules refer to a file containing Python statements and definitions.\n",
    "    A file containing Python code, for example: example.py, is called a module, and its module name would be example.\n",
    "    We use modules to break down large programs into small manageable and organized files. Furthermore, modules provide reusability of code.\n",
    "    We can define our most used functions in a module and import it, instead of copying their definitions into different programs.\n",
    "\n",
    "    Let us create a module. Type the following and save it as example.py."
   ]
  },
  {
   "cell_type": "code",
   "execution_count": 2,
   "metadata": {},
   "outputs": [],
   "source": [
    "# Python Module example\n",
    "\n",
    "def add(a, b):\n",
    "   \"\"\"This program adds two\n",
    "   numbers and return the result\"\"\"\n",
    "\n",
    "   result = a + b\n",
    "   return result"
   ]
  },
  {
   "cell_type": "markdown",
   "metadata": {},
   "source": [
    "Here, we have defined a function add() inside a module named example. The function takes in two numbers and returns their sum."
   ]
  },
  {
   "cell_type": "markdown",
   "metadata": {},
   "source": [
    "## How to import modules in Python?"
   ]
  },
  {
   "cell_type": "markdown",
   "metadata": {},
   "source": [
    "We can import the definitions inside a module to another module or the interactive interpreter in Python.\n",
    "\n",
    "We use the import keyword to do this. To import our previously defined module example, we type the following in the Python prompt."
   ]
  },
  {
   "cell_type": "markdown",
   "metadata": {},
   "source": [
    "    >>> import example"
   ]
  },
  {
   "cell_type": "markdown",
   "metadata": {},
   "source": [
    "This does not import the names of the functions defined in example directly in the current symbol table. It only imports the module name example there.\n",
    "\n",
    "Using the module name we can access the function using the dot . operator. For example:"
   ]
  },
  {
   "cell_type": "markdown",
   "metadata": {},
   "source": [
    "    >>> example.add(4,5.5)\n",
    "    9.5"
   ]
  },
  {
   "cell_type": "markdown",
   "metadata": {},
   "source": [
    "Python has tons of standard modules. You can check out the full list of Python standard modules and their use cases. These files are in the Lib directory inside the location where you installed Python.\n",
    "\n",
    "Standard modules can be imported the same way as we import our user-defined modules.\n",
    "\n",
    "There are various ways to import modules. They are listed below.."
   ]
  },
  {
   "cell_type": "markdown",
   "metadata": {},
   "source": [
    "### Python import statement"
   ]
  },
  {
   "cell_type": "markdown",
   "metadata": {},
   "source": [
    "    We can import a module using the import statement and access the definitions inside it using the dot operator as described above. Here is an example."
   ]
  },
  {
   "cell_type": "code",
   "execution_count": 1,
   "metadata": {},
   "outputs": [
    {
     "name": "stdout",
     "output_type": "stream",
     "text": [
      "The value of pi is 3.141592653589793\n"
     ]
    }
   ],
   "source": [
    "# import statement example\n",
    "# to import standard module math\n",
    "\n",
    "import math\n",
    "print(\"The value of pi is\", math.pi)"
   ]
  },
  {
   "cell_type": "markdown",
   "metadata": {},
   "source": [
    "### Import with renaming"
   ]
  },
  {
   "cell_type": "markdown",
   "metadata": {},
   "source": [
    "We can import a module by renaming it as follows:"
   ]
  },
  {
   "cell_type": "code",
   "execution_count": 6,
   "metadata": {},
   "outputs": [
    {
     "name": "stdout",
     "output_type": "stream",
     "text": [
      "The value of pi is 3.141592653589793\n"
     ]
    }
   ],
   "source": [
    "# import module by renaming it\n",
    "\n",
    "import math as m\n",
    "print(\"The value of pi is\", m.pi)"
   ]
  },
  {
   "cell_type": "markdown",
   "metadata": {},
   "source": [
    "We have renamed the math module as m. This can save us typing time in some cases.\n",
    "\n",
    "Note that the name math is not recognized in our scope. Hence, math.pi is invalid, and m.pi is the correct implementation."
   ]
  },
  {
   "cell_type": "markdown",
   "metadata": {},
   "source": [
    "### Python from...import statement"
   ]
  },
  {
   "cell_type": "markdown",
   "metadata": {},
   "source": [
    "    We can import specific names from a module without importing the module as a whole. Here is an example."
   ]
  },
  {
   "cell_type": "code",
   "execution_count": 7,
   "metadata": {},
   "outputs": [
    {
     "name": "stdout",
     "output_type": "stream",
     "text": [
      "The value of pi is 3.141592653589793\n"
     ]
    }
   ],
   "source": [
    "# import only pi from math module\n",
    "\n",
    "from math import pi\n",
    "print(\"The value of pi is\", pi)"
   ]
  },
  {
   "cell_type": "markdown",
   "metadata": {},
   "source": [
    "Here, we imported only the pi attribute from the math module.\n",
    "\n",
    "In such cases, we don't use the dot operator. We can also import multiple attributes as follows:"
   ]
  },
  {
   "cell_type": "markdown",
   "metadata": {},
   "source": [
    "    >>> from math import pi, e\n",
    "    >>> pi\n",
    "    3.141592653589793\n",
    "    >>> e\n",
    "    2.718281828459045"
   ]
  },
  {
   "cell_type": "markdown",
   "metadata": {},
   "source": [
    "### Import all names"
   ]
  },
  {
   "cell_type": "markdown",
   "metadata": {},
   "source": [
    "We can import all names(definitions) from a module using the following construct:"
   ]
  },
  {
   "cell_type": "code",
   "execution_count": 9,
   "metadata": {},
   "outputs": [
    {
     "name": "stdout",
     "output_type": "stream",
     "text": [
      "The value of pi is 3.141592653589793\n"
     ]
    }
   ],
   "source": [
    "# import all names from the standard module math\n",
    "\n",
    "from math import *\n",
    "print(\"The value of pi is\", pi)"
   ]
  },
  {
   "cell_type": "markdown",
   "metadata": {},
   "source": [
    "Here, we have imported all the definitions from the math module. This includes all names visible in our scope except those beginning with an underscore(private definitions).\n",
    "\n",
    "Importing everything with the asterisk (*) symbol is not a good programming practice. This can lead to duplicate definitions for an identifier. It also hampers the readability of our code."
   ]
  },
  {
   "cell_type": "markdown",
   "metadata": {},
   "source": [
    "### Python Module Search Path"
   ]
  },
  {
   "cell_type": "markdown",
   "metadata": {},
   "source": [
    "While importing a module, Python looks at several places. Interpreter first looks for a built-in module. Then(if built-in module not found), Python looks into a list of directories defined in sys.path. The search is in this order.\n",
    "\n",
    " - The current directory.\n",
    " - PYTHONPATH (an environment variable with a list of directories).\n",
    " - The installation-dependent default directory."
   ]
  },
  {
   "cell_type": "markdown",
   "metadata": {},
   "source": [
    "### windows\n",
    "    >>> import sys\n",
    "    >>> sys.path\n",
    "    ['',\n",
    "    'C:\\\\Python33\\\\Lib\\\\idlelib',\n",
    "    'C:\\\\Windows\\\\system32\\\\python33.zip',\n",
    "    'C:\\\\Python33\\\\DLLs',\n",
    "    'C:\\\\Python33\\\\lib',\n",
    "    'C:\\\\Python33',\n",
    "    'C:\\\\Python33\\\\lib\\\\site-packages']"
   ]
  },
  {
   "cell_type": "markdown",
   "metadata": {},
   "source": [
    "### linux \n",
    "    >>> import sys\n",
    "    >>> sys.path\n",
    "    ['', '/usr/lib/python38.zip', \n",
    "    '/usr/lib/python3.8', \n",
    "    '/usr/lib/python3.8/lib-dynload', \n",
    "    '/home/eddy/.local/lib/python3.8/site-packages', \n",
    "    '/usr/local/lib/python3.8/dist-packages', \n",
    "    '/usr/lib/python3/dist-packages']"
   ]
  },
  {
   "cell_type": "markdown",
   "metadata": {},
   "source": [
    "#### Note: We can add and modify this list to add our own path."
   ]
  },
  {
   "cell_type": "markdown",
   "metadata": {},
   "source": [
    "### Reloading a module"
   ]
  },
  {
   "cell_type": "markdown",
   "metadata": {},
   "source": [
    "The Python interpreter imports a module only once during a session. This makes things more efficient. Here is an example to show how this works.\n",
    "\n",
    "Suppose we have the following code in a module named my_module."
   ]
  },
  {
   "cell_type": "code",
   "execution_count": 11,
   "metadata": {},
   "outputs": [
    {
     "name": "stdout",
     "output_type": "stream",
     "text": [
      "This code got executed\n"
     ]
    }
   ],
   "source": [
    "# This module shows the effect of\n",
    "#  multiple imports and reload\n",
    "\n",
    "print(\"This code got executed\")"
   ]
  },
  {
   "cell_type": "markdown",
   "metadata": {},
   "source": [
    "#### Now we see the effect of multiple imports."
   ]
  },
  {
   "cell_type": "markdown",
   "metadata": {},
   "source": [
    "    ----------------------------------------------------\n",
    "    >>> import my_module\n",
    "    This code got executed\n",
    "    >>> import my_module\n",
    "    >>> import my_module\n",
    "    ----------------------------------------------------"
   ]
  },
  {
   "cell_type": "markdown",
   "metadata": {},
   "source": [
    "We can see that our code got executed only once. This goes to say that our module was imported only once.\n",
    "\n",
    "Now if our module changed during the course of the program, we would have to reload it.One way to do this is to restart the interpreter. But this does not help much.\n",
    "\n",
    "Python provides a more efficient way of doing this. We can use the reload() function inside the imp module to reload a module. We can do it in the following ways:"
   ]
  },
  {
   "cell_type": "markdown",
   "metadata": {},
   "source": [
    "    ----------------------------------------------------\n",
    "    >>> import imp\n",
    "    >>> import my_module\n",
    "    This code got executed\n",
    "    >>> import my_module\n",
    "    >>> imp.reload(my_module)\n",
    "    This code got executed\n",
    "    <module 'my_module' from '.\\\\my_module.py'>\n",
    "    ----------------------------------------------------"
   ]
  },
  {
   "cell_type": "markdown",
   "metadata": {},
   "source": [
    "### The dir() built-in function"
   ]
  },
  {
   "cell_type": "markdown",
   "metadata": {},
   "source": [
    "    We can use the dir() function to find out names that are defined inside a module.\n",
    "\n",
    "    For example, we have defined a function add() in the module example that we had in the beginning.\n",
    "\n",
    "    We can use dir in example module in the following way:"
   ]
  },
  {
   "cell_type": "markdown",
   "metadata": {},
   "source": [
    "       ----------------------------------------------------\n",
    "       dir(example)\n",
    "        ['__builtins__',\n",
    "        '__cached__',\n",
    "        '__doc__',\n",
    "        '__file__',\n",
    "        '__initializing__',\n",
    "        '__loader__',\n",
    "        '__name__',\n",
    "        '__package__',\n",
    "        'add']\n",
    "        ---------------------------------------------------"
   ]
  },
  {
   "cell_type": "markdown",
   "metadata": {},
   "source": [
    "Here, we can see a sorted list of names (along with add). All other names that begin with an underscore are default Python attributes associated with the module (not user-defined).\n",
    "\n",
    "For example, the __name__ attribute contains the name of the module."
   ]
  },
  {
   "cell_type": "markdown",
   "metadata": {},
   "source": [
    "    ---------------------------------------------------\n",
    "    >>> import example\n",
    "    >>> example.__name__\n",
    "    'example'\n",
    "    ---------------------------------------------------"
   ]
  },
  {
   "cell_type": "markdown",
   "metadata": {},
   "source": [
    "All the names defined in our current namespace can be found out using the dir() function without any arguments."
   ]
  },
  {
   "cell_type": "markdown",
   "metadata": {},
   "source": [
    "    -----------------------------------------------------------------------\n",
    "    >>> a = 1\n",
    "    >>> b = \"hello\"\n",
    "    >>> import math\n",
    "    >>> dir()\n",
    "    ['__builtins__', '__doc__', '__name__', 'a', 'b', 'math', 'pyscripter']\n",
    "    -----------------------------------------------------------------------"
   ]
  },
  {
   "cell_type": "markdown",
   "metadata": {},
   "source": [
    "# Python Package"
   ]
  },
  {
   "cell_type": "markdown",
   "metadata": {},
   "source": [
    "### What are packages?"
   ]
  },
  {
   "cell_type": "markdown",
   "metadata": {},
   "source": [
    "    We don't usually store all of our files on our computer in the same location. We use a well-organized hierarchy of directories for easier access.\n",
    "\n",
    "    Similar files are kept in the same directory, for example, we may keep all the songs in the \"music\" directory. Analogous to this, Python has packages for directories and modules for files.\n",
    "\n",
    "    As our application program grows larger in size with a lot of modules, we place similar modules in one package and different modules in different packages. This makes a project (program) easy to manage and conceptually clear.\n",
    "\n",
    "    Similarly, as a directory can contain subdirectories and files, a Python package can have sub-packages and modules.\n",
    "\n",
    "    A directory must contain a file named __init__.py in order for Python to consider it as a package. This file can be left empty but we generally place the initialization code for that package in this file.\n",
    "\n",
    "    Here is an example. Suppose we are developing a game. One possible organization of packages and modules could be as shown in the figure below."
   ]
  },
  {
   "cell_type": "markdown",
   "metadata": {},
   "source": [
    "<img src='img/python_package.png' height=400 widht=400>"
   ]
  },
  {
   "cell_type": "markdown",
   "metadata": {},
   "source": [
    "## Importing module from a package"
   ]
  },
  {
   "cell_type": "markdown",
   "metadata": {},
   "source": [
    "We can import modules from packages using the dot (.) operator.\n",
    "\n",
    "For example, if we want to import the start module in the above example, it can be done as follows:\n",
    "\n",
    "    --------------------------------------------------\n",
    "    \n",
    "    >>> import Game.Level.start\n",
    "    ---------------------------------------------------\n",
    "\n",
    "Now, if this module contains a function named select_difficulty(), we must use the full name to reference it.\n",
    "\n",
    "    ---------------------------------------------------\n",
    "    \n",
    "    >>> Game.Level.start.select_difficulty(2)\n",
    "    ---------------------------------------------------"
   ]
  },
  {
   "cell_type": "markdown",
   "metadata": {},
   "source": [
    "If this construct seems lengthy, we can import the module without the package prefix as follows:\n",
    "\n",
    "    ---------------------------------------------------\n",
    "    \n",
    "    >>> from Game.Level import start\n",
    "    ---------------------------------------------------\n",
    "\n",
    "We can now call the function simply as follows:\n",
    "\n",
    "    ---------------------------------------------------\n",
    "    \n",
    "    >>> start.select_difficulty(2)\n",
    "    ---------------------------------------------------\n",
    "\n",
    "Another way of importing just the required function (or class or variable) from a module within a package would be as follows:\n",
    "    \n",
    "    ---------------------------------------------------\n",
    "    \n",
    "    >>> from Game.Level.start import select_difficulty\n",
    "    ---------------------------------------------------\n",
    "\n",
    "Now we can directly call this function.\n",
    "\n",
    "    ---------------------------------------------------\n",
    "    \n",
    "    >>> select_difficulty(2)\n",
    "    ---------------------------------------------------\n",
    "\n",
    "Although easier, this method is not recommended. Using the full namespace avoids confusion and prevents two same identifier names from colliding.\n",
    "\n",
    "While importing packages, Python looks in the list of directories defined in sys.path, similar as for module search path."
   ]
  }
 ],
 "metadata": {
  "kernelspec": {
   "display_name": "Python 3",
   "language": "python",
   "name": "python3"
  },
  "language_info": {
   "codemirror_mode": {
    "name": "ipython",
    "version": 3
   },
   "file_extension": ".py",
   "mimetype": "text/x-python",
   "name": "python",
   "nbconvert_exporter": "python",
   "pygments_lexer": "ipython3",
   "version": "3.8.5"
  }
 },
 "nbformat": 4,
 "nbformat_minor": 4
}
